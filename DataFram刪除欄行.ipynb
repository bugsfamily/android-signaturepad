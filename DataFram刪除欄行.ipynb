{
  "nbformat": 4,
  "nbformat_minor": 0,
  "metadata": {
    "colab": {
      "name": "DataFram刪除欄行.ipynb",
      "version": "0.3.2",
      "provenance": [],
      "collapsed_sections": [],
      "include_colab_link": true
    },
    "kernelspec": {
      "name": "python3",
      "display_name": "Python 3"
    }
  },
  "cells": [
    {
      "cell_type": "markdown",
      "metadata": {
        "id": "view-in-github",
        "colab_type": "text"
      },
      "source": [
        "<a href=\"https://colab.research.google.com/github/bugsfamily/android-signaturepad/blob/master/DataFram%E5%88%AA%E9%99%A4%E6%AC%84%E8%A1%8C.ipynb\" target=\"_parent\"><img src=\"https://colab.research.google.com/assets/colab-badge.svg\" alt=\"Open In Colab\"/></a>"
      ]
    },
    {
      "cell_type": "markdown",
      "metadata": {
        "id": "Kzdb4t5LS_bv",
        "colab_type": "text"
      },
      "source": [
        "pandas.DataFrame删除/选取含有特定数值的行或列\n",
        "\n",
        "来源：\n",
        "\n",
        "https://blog.csdn.net/luocheng7430/article/details/80330566\n",
        "\n",
        "https://blog.csdn.net/songyunli1111/article/details/79306639 \n",
        "\n",
        "--------------------- \n",
        "用法：\n",
        "DataFrame.drop(labels=None,axis=0, index=None, columns=None, inplace=False)\n",
        "\n",
        "参数说明：\n",
        "\n",
        "labels 就是要删除的行列的名字，用列表给定\n",
        "\n",
        "axis 默认为0，指删除行，因此删除columns时要指定axis=1；\n",
        "\n",
        "index 直接指定要删除的行\n",
        "\n",
        "columns 直接指定要删除的列\n",
        "\n",
        "inplace=False，默认该删除操作不改变原数据，而是返回一个执行删除操作后的新dataframe；\n",
        "\n",
        "inplace=True，则会直接在原数据上进行删除操作，删除后无法返回。\n",
        "\n",
        "因此，删除行列有两种方式：\n",
        "\n",
        "1）labels=None,axis=0 的组合\n",
        "\n",
        "2）index或columns直接指定要删除的行或列\n"
      ]
    },
    {
      "cell_type": "code",
      "metadata": {
        "id": "sqKqvl6UoC5T",
        "colab_type": "code",
        "outputId": "97ec8f41-afe1-4ff5-d15b-12bcc8759c1a",
        "colab": {
          "base_uri": "https://localhost:8080/",
          "height": 204
        }
      },
      "source": [
        "df = pd.DataFrame(np.arange(12).reshape(3,4), columns=['A', 'B', 'C', 'D'])\n",
        "print(df)\n",
        "df.drop(['B', 'C'], axis=1) #這方法下删除column一定要指定axis=1,否则会报错 \n",
        "df.drop(columns=['B', 'C'])"
      ],
      "execution_count": 0,
      "outputs": [
        {
          "output_type": "stream",
          "text": [
            "   A  B   C   D\n",
            "0  0  1   2   3\n",
            "1  4  5   6   7\n",
            "2  8  9  10  11\n"
          ],
          "name": "stdout"
        },
        {
          "output_type": "execute_result",
          "data": {
            "text/html": [
              "<div>\n",
              "<style scoped>\n",
              "    .dataframe tbody tr th:only-of-type {\n",
              "        vertical-align: middle;\n",
              "    }\n",
              "\n",
              "    .dataframe tbody tr th {\n",
              "        vertical-align: top;\n",
              "    }\n",
              "\n",
              "    .dataframe thead th {\n",
              "        text-align: right;\n",
              "    }\n",
              "</style>\n",
              "<table border=\"1\" class=\"dataframe\">\n",
              "  <thead>\n",
              "    <tr style=\"text-align: right;\">\n",
              "      <th></th>\n",
              "      <th>A</th>\n",
              "      <th>D</th>\n",
              "    </tr>\n",
              "  </thead>\n",
              "  <tbody>\n",
              "    <tr>\n",
              "      <th>0</th>\n",
              "      <td>0</td>\n",
              "      <td>3</td>\n",
              "    </tr>\n",
              "    <tr>\n",
              "      <th>1</th>\n",
              "      <td>4</td>\n",
              "      <td>7</td>\n",
              "    </tr>\n",
              "    <tr>\n",
              "      <th>2</th>\n",
              "      <td>8</td>\n",
              "      <td>11</td>\n",
              "    </tr>\n",
              "  </tbody>\n",
              "</table>\n",
              "</div>"
            ],
            "text/plain": [
              "   A   D\n",
              "0  0   3\n",
              "1  4   7\n",
              "2  8  11"
            ]
          },
          "metadata": {
            "tags": []
          },
          "execution_count": 131
        }
      ]
    },
    {
      "cell_type": "code",
      "metadata": {
        "id": "_0S7YN5usmsI",
        "colab_type": "code",
        "outputId": "ddc763d3-5355-44a8-8bf8-752f238c2406",
        "colab": {
          "base_uri": "https://localhost:8080/",
          "height": 77
        }
      },
      "source": [
        "df.drop([0, 1])\n",
        "df.drop(index=[0, 1])"
      ],
      "execution_count": 0,
      "outputs": [
        {
          "output_type": "execute_result",
          "data": {
            "text/html": [
              "<div>\n",
              "<style scoped>\n",
              "    .dataframe tbody tr th:only-of-type {\n",
              "        vertical-align: middle;\n",
              "    }\n",
              "\n",
              "    .dataframe tbody tr th {\n",
              "        vertical-align: top;\n",
              "    }\n",
              "\n",
              "    .dataframe thead th {\n",
              "        text-align: right;\n",
              "    }\n",
              "</style>\n",
              "<table border=\"1\" class=\"dataframe\">\n",
              "  <thead>\n",
              "    <tr style=\"text-align: right;\">\n",
              "      <th></th>\n",
              "      <th>A</th>\n",
              "      <th>B</th>\n",
              "      <th>C</th>\n",
              "      <th>D</th>\n",
              "    </tr>\n",
              "  </thead>\n",
              "  <tbody>\n",
              "    <tr>\n",
              "      <th>2</th>\n",
              "      <td>8</td>\n",
              "      <td>9</td>\n",
              "      <td>10</td>\n",
              "      <td>11</td>\n",
              "    </tr>\n",
              "  </tbody>\n",
              "</table>\n",
              "</div>"
            ],
            "text/plain": [
              "   A  B   C   D\n",
              "2  8  9  10  11"
            ]
          },
          "metadata": {
            "tags": []
          },
          "execution_count": 133
        }
      ]
    },
    {
      "cell_type": "code",
      "metadata": {
        "id": "BrgJkh9PB_GW",
        "colab_type": "code",
        "outputId": "1010d5fe-f97d-47ac-b4e1-8628bb462305",
        "colab": {
          "base_uri": "https://localhost:8080/",
          "height": 84
        }
      },
      "source": [
        "import pandas as pd\n",
        "import numpy as np\n",
        " \n",
        "a=np.array([[1,2,3],[4,5,6],[7,8,9]])\n",
        "df=pd.DataFrame(a,index=['row0','row1','row2'],columns=list('ABC'))\n",
        "print(df)"
      ],
      "execution_count": 0,
      "outputs": [
        {
          "output_type": "stream",
          "text": [
            "      A  B  C\n",
            "row0  1  2  3\n",
            "row1  4  5  6\n",
            "row2  7  8  9\n"
          ],
          "name": "stdout"
        }
      ]
    },
    {
      "cell_type": "code",
      "metadata": {
        "id": "MM7LEvf8TA5-",
        "colab_type": "code",
        "outputId": "b7d5c11c-6ba1-4127-bfcb-e3c9668e2b3d",
        "colab": {
          "base_uri": "https://localhost:8080/",
          "height": 50
        }
      },
      "source": [
        "# A欄有1的行 == 船除沒1的行\n",
        "df1=df[df['A'].isin([1])]\n",
        "print(df1)"
      ],
      "execution_count": 0,
      "outputs": [
        {
          "output_type": "stream",
          "text": [
            "      A  B  C\n",
            "row0  1  2  3\n"
          ],
          "name": "stdout"
        }
      ]
    },
    {
      "cell_type": "code",
      "metadata": {
        "id": "4HqOW2ZPCT9H",
        "colab_type": "code",
        "outputId": "c578ba1a-33f7-446a-bd41-8526be4efdc3",
        "colab": {
          "base_uri": "https://localhost:8080/",
          "height": 67
        }
      },
      "source": [
        "# A欄沒1的行 == 船除有1的行\n",
        "df1=df[~df['A'].isin([1])]\n",
        "print(df1)"
      ],
      "execution_count": 0,
      "outputs": [
        {
          "output_type": "stream",
          "text": [
            "      A  B  C\n",
            "row1  4  5  6\n",
            "row2  7  8  9\n"
          ],
          "name": "stdout"
        }
      ]
    },
    {
      "cell_type": "code",
      "metadata": {
        "id": "Fk88wcwQehPI",
        "colab_type": "code",
        "outputId": "f891f7e3-7484-492d-f084-28d82e840dbe",
        "colab": {
          "base_uri": "https://localhost:8080/",
          "height": 50
        }
      },
      "source": [
        "#利用enumerate对row0进行遍历，\n",
        "\n",
        "# 走訪所有column name (列)\n",
        "cols0=[x for i,x in enumerate(df.columns) ]\n",
        "print(cols0)\n",
        "\n",
        "# 将含有数字3的column name (列)放入cols中\n",
        "cols1=[x for i,x in enumerate(df.columns) if df.iat[0,i]==3]\n",
        "print(cols1)"
      ],
      "execution_count": 0,
      "outputs": [
        {
          "output_type": "stream",
          "text": [
            "['A', 'B', 'C']\n",
            "['C']\n"
          ],
          "name": "stdout"
        }
      ]
    },
    {
      "cell_type": "code",
      "metadata": {
        "id": "mJIIj8dTkCsn",
        "colab_type": "code",
        "outputId": "fa6f8c56-41e9-4901-ff57-c04724d61916",
        "colab": {
          "base_uri": "https://localhost:8080/",
          "height": 150
        }
      },
      "source": [
        "df2=df[cols1]   # 选取含有特定数值的列\n",
        "print(df2)\n",
        "df=df.drop(cols1,axis=1) #利用drop方法将含有特定数值的列删除\n",
        "print(df)"
      ],
      "execution_count": 0,
      "outputs": [
        {
          "output_type": "stream",
          "text": [
            "      C\n",
            "row0  3\n",
            "row1  6\n",
            "row2  9\n",
            "      A  B\n",
            "row0  1  2\n",
            "row1  4  5\n",
            "row2  7  8\n"
          ],
          "name": "stdout"
        }
      ]
    }
  ]
}